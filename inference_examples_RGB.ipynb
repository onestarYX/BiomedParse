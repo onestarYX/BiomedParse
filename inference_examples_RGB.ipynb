{
 "cells": [
  {
   "metadata": {},
   "cell_type": "code",
   "source": [
    "from PIL import Image\n",
    "import torch\n",
    "import numpy as np\n",
    "from modeling.BaseModel import BaseModel\n",
    "from modeling import build_model\n",
    "from utilities.distributed import init_distributed\n",
    "from utilities.arguments import load_opt_from_config_files\n",
    "from utilities.constants import BIOMED_CLASSES\n",
    "\n",
    "from inference_utils.inference import interactive_infer_image\n",
    "from inference_utils.output_processing import check_mask_stats"
   ],
   "outputs": [],
   "execution_count": null
  },
  {
   "metadata": {},
   "cell_type": "code",
   "source": [
    "import huggingface_hub\n",
    "\n",
    "HF_TOKEN = 'YOUR_HUGGINGFACE_TOKEN'\n",
    "\n",
    "huggingface_hub.login(HF_TOKEN)"
   ],
   "outputs": [],
   "execution_count": null
  },
  {
   "metadata": {},
   "cell_type": "code",
   "source": [
    "# Build model config\n",
    "opt = load_opt_from_config_files([\"configs/biomedparse_inference.yaml\"])\n",
    "opt = init_distributed(opt)\n",
    "\n",
    "# Load model from pretrained weights\n",
    "# pretrained_pth = 'hf_hub:microsoft/BiomedParse'\n",
    "pretrained_pth = '/nfs/turbo/coe-stellayu-extra/yixing/LGCell/LG-CellSeg/BiomedParse/checkpoints/biomedparse_v1.pt'\n",
    "\n",
    "model = BaseModel(opt, build_model(opt)).from_pretrained(pretrained_pth).eval().cuda()\n",
    "with torch.no_grad():\n",
    "    model.model.sem_seg_head.predictor.lang_encoder.get_text_embeddings(BIOMED_CLASSES + [\"background\"], is_eval=True)"
   ],
   "outputs": [],
   "execution_count": null
  },
  {
   "metadata": {},
   "cell_type": "markdown",
   "source": "### Utility Functions"
  },
  {
   "metadata": {},
   "cell_type": "code",
   "source": [
    "def plot_segmentation_masks(original_image, segmentation_masks, texts):\n",
    "    ''' Plot a list of segmentation mask over an image.\n",
    "    '''\n",
    "    original_image = original_image[:, :, :3]\n",
    "    fig, ax = plt.subplots(1, len(segmentation_masks) + 1, figsize=(10, 5))\n",
    "    ax[0].imshow(original_image, cmap='gray')\n",
    "    ax[0].set_title('Original Image')\n",
    "    # grid off\n",
    "    for a in ax:\n",
    "        a.axis('off')\n",
    "\n",
    "    for i, mask in enumerate(segmentation_masks):\n",
    "        \n",
    "        ax[i+1].set_title(texts[i])\n",
    "        mask_temp = original_image.copy()\n",
    "        mask_temp[mask > 0.5] = [255, 0, 0]\n",
    "        mask_temp[mask <= 0.5] = [0, 0, 0, ]\n",
    "        ax[i+1].imshow(mask_temp, alpha=0.9)\n",
    "        ax[i+1].imshow(original_image, cmap='gray', alpha=0.5)\n",
    "        \n",
    "    \n",
    "    plt.show()"
   ],
   "outputs": [],
   "execution_count": null
  },
  {
   "metadata": {},
   "cell_type": "code",
   "source": [
    "# !pip install pydicom nibabel SimpleITK\n",
    "\n",
    "import json\n",
    "import matplotlib.pyplot as plt\n",
    "\n",
    "from inference_utils.processing_utils import read_rgb\n",
    "\n",
    "\n",
    "def inference_rgb(file_path, text_prompts):\n",
    "    image = read_rgb(file_path)\n",
    "    \n",
    "    pred_mask = interactive_infer_image(model, Image.fromarray(image), text_prompts)\n",
    "\n",
    "    # Plot feature over image\n",
    "    plot_segmentation_masks(image, pred_mask, text_prompts)\n",
    "    \n",
    "    return image, pred_mask\n"
   ],
   "outputs": [],
   "execution_count": null
  },
  {
   "metadata": {},
   "cell_type": "markdown",
   "source": "### Pathology Example"
  },
  {
   "metadata": {},
   "cell_type": "code",
   "source": [
    "# image_path = 'examples/CT_lung_nodule.dcm'\n",
    "# text_prompt = ['nodule']\n",
    "\n",
    "image_path = 'examples/Part_1_516_pathology_breast.png'\n",
    "text_prompt = ['neoplastic cells', 'inflammatory cells', 'connective tissue cells']\n",
    "\n",
    "image, pred_mask = inference_rgb(image_path, text_prompt)\n",
    "\n",
    "for i in range(len(pred_mask)):\n",
    "    adj_pvalue = check_mask_stats(image, pred_mask[i]*255, 'Pathology', text_prompt[i])\n",
    "    print(f'{text_prompt[i]} P-value: {adj_pvalue}')"
   ],
   "outputs": [],
   "execution_count": null
  },
  {
   "metadata": {},
   "cell_type": "code",
   "source": [
    "image_path = '/nfs/turbo/coe-stellayu-extra/yixing/LGCell/datasets/pannuke/Images/1_9.png'\n",
    "text_prompt = ['neoplastic cells', 'inflammatory cells', 'connective tissue cells', 'dead cells', 'epithelial cells']\n",
    "\n",
    "image, pred_mask = inference_rgb(image_path, text_prompt)\n",
    "\n",
    "for i in range(len(pred_mask)):\n",
    "    adj_pvalue = check_mask_stats(image, pred_mask[i]*255, 'Pathology', text_prompt[i])\n",
    "    print(f'{text_prompt[i]} P-value: {adj_pvalue}')"
   ],
   "outputs": [],
   "execution_count": null
  },
  {
   "metadata": {},
   "cell_type": "markdown",
   "source": "#### Get Cell Instances"
  },
  {
   "metadata": {},
   "cell_type": "code",
   "source": [
    "from inference_utils.processing_utils import get_instances\n",
    "\n",
    "def plot_instance_segmentation_masks(original_image, segmentation_masks, text_prompt=None):\n",
    "    ''' Plot a list of segmentation mask over an image.\n",
    "    '''\n",
    "    original_image = original_image[:, :, :3]\n",
    "    fig, ax = plt.subplots(1, len(segmentation_masks) + 1, figsize=(10, 5))\n",
    "    ax[0].imshow(original_image, cmap='gray')\n",
    "    ax[0].set_title('Original Image')\n",
    "    # grid off\n",
    "    for a in ax:\n",
    "        a.axis('off')\n",
    "        \n",
    "    instance_masks = [get_instances(1*(mask>0.5)) for mask in segmentation_masks]\n",
    "    \n",
    "    mask_names = [f'Mask {i+1}' for i in range(len(segmentation_masks))]\n",
    "    if text_prompt:\n",
    "        mask_names = text_prompt\n",
    "        for i in range(len(mask_names)):\n",
    "            mask_names[i] = mask_names[i].strip()\n",
    "\n",
    "\n",
    "    for i, mask in enumerate(instance_masks):\n",
    "        ins_ids = np.unique(mask)\n",
    "        count = len(ins_ids[ins_ids > 0])\n",
    "        \n",
    "        ax[i+1].set_title(f'{mask_names[i]} ({count})')\n",
    "        mask_temp = np.zeros_like(original_image)\n",
    "        for ins_id in ins_ids:\n",
    "            if ins_id == 0:\n",
    "                continue\n",
    "            mask_temp[mask == ins_id] = np.random.randint(0, 255, 3)\n",
    "            if ins_id == 1:\n",
    "                mask_temp[mask == ins_id] = [255, 0, 0]\n",
    "        \n",
    "        ax[i+1].imshow(mask_temp, alpha=1)\n",
    "        ax[i+1].imshow(original_image, cmap='gray', alpha=0.5)\n",
    "        \n",
    "        \n",
    "    plt.show()"
   ],
   "outputs": [],
   "execution_count": null
  },
  {
   "metadata": {},
   "cell_type": "code",
   "source": "plot_instance_segmentation_masks(image, pred_mask, text_prompt)",
   "outputs": [],
   "execution_count": null
  },
  {
   "metadata": {},
   "cell_type": "markdown",
   "source": "### X-Ray Example"
  },
  {
   "metadata": {},
   "cell_type": "code",
   "source": [
    "image_path = 'examples/covid_1585.png'\n",
    "text_prompt = ['left lung', 'right lung', 'COVID-19 infection']\n",
    "\n",
    "image, pred_mask = inference_rgb(image_path, text_prompt)\n",
    "\n",
    "for i in range(len(pred_mask)-1):\n",
    "    adj_pvalue = check_mask_stats(image, pred_mask[i]*255, 'X-Ray-Chest', text_prompt[i])\n",
    "    print(f'{text_prompt[i]} P-value: {adj_pvalue}')"
   ],
   "outputs": [],
   "execution_count": null
  },
  {
   "metadata": {},
   "cell_type": "markdown",
   "source": "### Fundus Example"
  },
  {
   "metadata": {},
   "cell_type": "code",
   "source": [
    "image_path = 'examples/T0011.jpg'\n",
    "text_prompt = ['optic disc', 'optic cup']\n",
    "\n",
    "image, pred_mask = inference_rgb(image_path, text_prompt)\n",
    "\n",
    "for i in range(len(pred_mask)):\n",
    "    adj_pvalue = check_mask_stats(image, pred_mask[i]*255, 'Fundus', text_prompt[i])\n",
    "    print(f'{text_prompt[i]} P-value: {adj_pvalue}')"
   ],
   "outputs": [],
   "execution_count": null
  },
  {
   "metadata": {},
   "cell_type": "markdown",
   "source": "### Endoscope Example"
  },
  {
   "metadata": {},
   "cell_type": "code",
   "source": [
    "image_path = 'examples/C3_EndoCV2021_00462.jpg'\n",
    "text_prompt = ['polyp']\n",
    "\n",
    "image, pred_mask = inference_rgb(image_path, text_prompt)\n",
    "\n",
    "for i in range(len(pred_mask)):\n",
    "    adj_pvalue = check_mask_stats(image, pred_mask[i]*255, 'Endoscopy', text_prompt[i])\n",
    "    print(f'{text_prompt[i]} P-value: {adj_pvalue}')"
   ],
   "outputs": [],
   "execution_count": null
  },
  {
   "metadata": {},
   "cell_type": "markdown",
   "source": "### Dermoscopy Example"
  },
  {
   "metadata": {},
   "cell_type": "code",
   "source": [
    "image_path = 'examples/ISIC_0015551.jpg'\n",
    "text_prompt = ['lesion']\n",
    "\n",
    "image, pred_mask = inference_rgb(image_path, text_prompt)\n",
    "\n",
    "for i in range(len(pred_mask)):\n",
    "    adj_pvalue = check_mask_stats(image, pred_mask[i]*255, 'Dermoscopy', text_prompt[i])\n",
    "    print(f'{text_prompt[i]} P-value: {adj_pvalue}')"
   ],
   "outputs": [],
   "execution_count": null
  },
  {
   "metadata": {},
   "cell_type": "markdown",
   "source": "### OCT Example"
  },
  {
   "metadata": {},
   "cell_type": "code",
   "source": [
    "image_path = 'examples/144DME_as_F.jpeg'\n",
    "text_prompt = ['edema']\n",
    "\n",
    "image, pred_mask = inference_rgb(image_path, text_prompt)\n",
    "\n",
    "for i in range(len(pred_mask)):\n",
    "    adj_pvalue = check_mask_stats(image, pred_mask[i]*255, 'OCT', text_prompt[i])\n",
    "    print(f'{text_prompt[i]} P-value: {adj_pvalue}')"
   ],
   "outputs": [],
   "execution_count": null
  },
  {
   "metadata": {},
   "cell_type": "code",
   "source": "",
   "outputs": [],
   "execution_count": null
  }
 ],
 "metadata": {
  "kernel_info": {
   "name": "biomedparse"
  },
  "kernelspec": {
   "display_name": "biomedparse",
   "language": "python",
   "name": "python3"
  },
  "language_info": {
   "codemirror_mode": {
    "name": "ipython",
    "version": 3
   },
   "file_extension": ".py",
   "mimetype": "text/x-python",
   "name": "python",
   "nbconvert_exporter": "python",
   "pygments_lexer": "ipython3",
   "version": "3.9.19"
  },
  "microsoft": {
   "host": {
    "AzureML": {
     "notebookHasBeenCompleted": true
    }
   },
   "ms_spell_check": {
    "ms_spell_check_language": "en"
   }
  },
  "nteract": {
   "version": "nteract-front-end@1.0.0"
  }
 },
 "nbformat": 4,
 "nbformat_minor": 2
}
